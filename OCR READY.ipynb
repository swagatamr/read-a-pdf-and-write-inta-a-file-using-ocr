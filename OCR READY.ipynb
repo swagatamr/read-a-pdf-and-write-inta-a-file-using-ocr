{
 "cells": [
  {
   "cell_type": "code",
   "execution_count": null,
   "metadata": {},
   "outputs": [],
   "source": [
    "from pdf2image import convert_from_path\n",
    "\n",
    "from pdf2image.exceptions import (\n",
    " PDFInfoNotInstalledError,\n",
    " PDFPageCountError,\n",
    " PDFSyntaxError\n",
    ")\n",
    "from PIL import Image \n",
    "import pytesseract \n",
    "import sys \n",
    "from pdf2image import convert_from_path \n",
    "import os \n",
    "import cv2\n",
    "import numpy as np\n",
    "import pandas as pd\n",
    "import matplotlib.pyplot as plt\n",
    "from pytesseract import Output\n",
    "import pdf2image\n",
    "import pyautogui\n"
   ]
  },
  {
   "cell_type": "code",
   "execution_count": null,
   "metadata": {},
   "outputs": [],
   "source": [
    "pytesseract.pytesseract.tesseract_cmd = 'C:/Program Files/Tesseract-OCR/tesseract'\n",
    "TESSDATA_PREFIX = 'C:/Program Files/Tesseract-OCR'"
   ]
  },
  {
   "cell_type": "code",
   "execution_count": null,
   "metadata": {},
   "outputs": [],
   "source": [
    "path=r\"C:\\Users\\swagatam\\Downloads\\sample.pdf\""
   ]
  },
  {
   "cell_type": "code",
   "execution_count": null,
   "metadata": {},
   "outputs": [],
   "source": [
    "images = convert_from_path(path, 300,poppler_path=r'C:\\Program Files (x86)\\poppler-0.68.0_x86\\poppler-0.68.0\\bin')\n",
    "for i, image in enumerate(images):\n",
    "    fname = 'image'+str(i)+'.png'\n",
    "    image.save(fname, \"PNG\")"
   ]
  },
  {
   "cell_type": "code",
   "execution_count": null,
   "metadata": {},
   "outputs": [],
   "source": [
    "from pdf2image import convert_from_path\n",
    "\n",
    "pages = convert_from_path(path, dpi=350,poppler_path=r'C:\\Program Files (x86)\\poppler-0.68.0_x86\\poppler-0.68.0\\bin')\n",
    "\n",
    "image_name_list = []\n",
    "count = 1\n",
    "for page in pages:\n",
    "    output_image_name = \"Page_\" + str(count) + \".png\"\n",
    "    page.save(output_image_name, 'PNG')\n",
    "    image_name_list.append(output_image_name)\n",
    "    count+=1\n",
    "\n",
    "for image in image_name_list:\n",
    "    image = cv2.imread(image)\n",
    "    \n"
   ]
  },
  {
   "cell_type": "code",
   "execution_count": null,
   "metadata": {},
   "outputs": [],
   "source": [
    "gray_image = cv2.cvtColor(image, cv2.COLOR_BGR2GRAY)\n",
    "\n",
    "threshold_img = cv2.threshold(gray_image, 0, 255, cv2.THRESH_BINARY | cv2.THRESH_OTSU)[1]\n",
    "th=threshold_img\n",
    "# display image\n",
    "cv2.imshow('threshold image', threshold_img)\n",
    "# Maintain output window until user presses a key\n",
    "cv2.waitKey(0)\n",
    "# Destroying present windows on screen\n",
    "cv2.destroyAllWindows()\n",
    "#configuring parameters for tesseract\n",
    "custom_config = r'--oem 3 --psm 6'\n",
    "# now feeding image to tesseract\n",
    "details = pytesseract.image_to_data(threshold_img, output_type=Output.DICT, config=custom_config, lang='eng')\n",
    "print(details.keys())"
   ]
  },
  {
   "cell_type": "code",
   "execution_count": null,
   "metadata": {},
   "outputs": [],
   "source": [
    "total_boxes = len(details['text'])\n",
    "for sequence_number in range(total_boxes):\n",
    "    if int(details['conf'][sequence_number]) >30:\n",
    "        (x, y, w, h) = (details['left'][sequence_number], details['top'][sequence_number], details['width'][sequence_number],  details['height'][sequence_number])\n",
    "        threshold_img = cv2.rectangle(threshold_img, (x, y), (x + w, y + h), (0, 255, 0), 2)"
   ]
  },
  {
   "cell_type": "code",
   "execution_count": null,
   "metadata": {},
   "outputs": [],
   "source": [
    "parse_text = []\n",
    "word_list = []\n",
    "last_word = ''\n",
    "for word in details['text']:\n",
    "    if word!='':\n",
    "           word_list.append(word)\n",
    "           last_word = word\n",
    "    if (last_word!='' and word == '') or (word==details['text'][-1]):\n",
    "         parse_text.append(word_list)\n",
    "         word_list = []"
   ]
  },
  {
   "cell_type": "code",
   "execution_count": null,
   "metadata": {},
   "outputs": [],
   "source": [
    "file = open(r\"C:\\Users\\swagatam\\Downloads\\out.txt\", \"w+\")\n",
    "#path_to_file=r\"C:\\Users\\swagatam\\Downloads\\out.txt\"\n",
    "list_obj=parse_text\n",
    "with open(path_to_file, \"r+\") as fileobj:\n",
    "    # read all lines and only include lines that have something written\n",
    "    lines = [x for x in fileobj.readlines() if x.strip()]\n",
    "    # after reading reset the file position\n",
    "    fileobj.seek(0)\n",
    "    # iterate over the lines and words to add\n",
    "    for line, word in zip(lines, list_obj):\n",
    "        # create each new line with the added words\n",
    "        new_line = \"%s %s\\n\\n\" % (line.rstrip(), word)\n",
    "        # write the lines to the file\n",
    "        fileobj.write(new_line)\n",
    "file.close()"
   ]
  }
 ],
 "metadata": {
  "kernelspec": {
   "display_name": "Python 3",
   "language": "python",
   "name": "python3"
  },
  "language_info": {
   "codemirror_mode": {
    "name": "ipython",
    "version": 3
   },
   "file_extension": ".py",
   "mimetype": "text/x-python",
   "name": "python",
   "nbconvert_exporter": "python",
   "pygments_lexer": "ipython3",
   "version": "3.7.0"
  }
 },
 "nbformat": 4,
 "nbformat_minor": 2
}
